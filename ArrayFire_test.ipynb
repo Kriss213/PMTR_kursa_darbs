{
 "cells": [
  {
   "cell_type": "markdown",
   "metadata": {},
   "source": [
    "## Load necessary libraries"
   ]
  },
  {
   "cell_type": "code",
   "execution_count": 1,
   "metadata": {},
   "outputs": [],
   "source": [
    "import arrayfire as af\n",
    "import librosa\n",
    "import subprocess\n",
    "import os\n",
    "import time\n",
    "import signal"
   ]
  },
  {
   "cell_type": "markdown",
   "metadata": {},
   "source": [
    "## Set arrayfire backend and global variables"
   ]
  },
  {
   "cell_type": "code",
   "execution_count": 2,
   "metadata": {},
   "outputs": [
    {
     "name": "stdout",
     "output_type": "stream",
     "text": [
      "ArrayFire v3.9.0 (OpenCL 64bit)\n",
      "[0] NVIDIA CUDA: NVIDIA_GeForce_RTX_2060 (Compute 3.0)\n",
      "\n"
     ]
    }
   ],
   "source": [
    "backend = \"opencl\"\n",
    "seed = 42\n",
    "memory_log_interval_ms = 10\n",
    "part_count = 10\n",
    "\n",
    "af.set_backend(backend)\n",
    "af.set_seed(seed)\n",
    "print(af.info_str())"
   ]
  },
  {
   "cell_type": "markdown",
   "metadata": {},
   "source": [
    "## Matrix multiplcation"
   ]
  },
  {
   "cell_type": "markdown",
   "metadata": {},
   "source": [
    "### Check needed memory for data\n",
    "* 2 2D arrays for matrix multiplication"
   ]
  },
  {
   "cell_type": "code",
   "execution_count": 3,
   "metadata": {},
   "outputs": [
    {
     "name": "stdout",
     "output_type": "stream",
     "text": [
      "Size of matrix A: 20000 x 20000 -> 1600.0 MB\n",
      "Size of matrix B: 20000 x 20000 -> 1600.0 MB\n"
     ]
    }
   ],
   "source": [
    "#   Set size for matrices\n",
    "k = 2\n",
    "pwr = 4\n",
    "N = int(k * 10**pwr)\n",
    "M = int(k * 10**pwr)\n",
    "\n",
    "needed_memory_matrix =  (N*M * 32) / (8*1e6) \n",
    "\n",
    "print(\n",
    "    f\"\"\"Size of matrix A: {N} x {M} -> {needed_memory_matrix} MB\n",
    "Size of matrix B: {N} x {M} -> {needed_memory_matrix} MB\"\"\"\n",
    ")"
   ]
  },
  {
   "cell_type": "markdown",
   "metadata": {},
   "source": [
    "### Perform matrix multiplication and log memory usage\n",
    "\n",
    "Split data into 10 parts and perform matrix multiplicatios for matrix sizes 1/10 to 10/10"
   ]
  },
  {
   "cell_type": "code",
   "execution_count": 4,
   "metadata": {},
   "outputs": [
    {
     "name": "stdout",
     "output_type": "stream",
     "text": [
      "\n",
      "================================\n",
      "Matrix multiplication for\n",
      "        Matrix A of size 2000 x 2000 -> 16.0 MB;\n",
      "        Matrix B of size 2000 x 2000 -> 16.0 MB;\n",
      "    took 0.0058556487 seconds\n",
      "\n",
      "================================\n",
      "Matrix multiplication for\n",
      "        Matrix A of size 4000 x 4000 -> 64.0 MB;\n",
      "        Matrix B of size 4000 x 4000 -> 64.0 MB;\n",
      "    took 0.0346072401 seconds\n",
      "\n",
      "================================\n",
      "Matrix multiplication for\n",
      "        Matrix A of size 6000 x 6000 -> 144.0 MB;\n",
      "        Matrix B of size 6000 x 6000 -> 144.0 MB;\n",
      "    took 0.1012217522 seconds\n",
      "\n",
      "================================\n",
      "Matrix multiplication for\n",
      "        Matrix A of size 8000 x 8000 -> 256.0 MB;\n",
      "        Matrix B of size 8000 x 8000 -> 256.0 MB;\n",
      "    took 0.2296109200 seconds\n",
      "\n",
      "================================\n",
      "Matrix multiplication for\n",
      "        Matrix A of size 10000 x 10000 -> 400.0 MB;\n",
      "        Matrix B of size 10000 x 10000 -> 400.0 MB;\n",
      "    took 0.4433233738 seconds\n",
      "\n",
      "================================\n",
      "Matrix multiplication for\n",
      "        Matrix A of size 12000 x 12000 -> 576.0 MB;\n",
      "        Matrix B of size 12000 x 12000 -> 576.0 MB;\n",
      "    took 0.7410244942 seconds\n",
      "\n",
      "================================\n",
      "Matrix multiplication for\n",
      "        Matrix A of size 14000 x 14000 -> 784.0 MB;\n",
      "        Matrix B of size 14000 x 14000 -> 784.0 MB;\n",
      "    took 1.1798446178 seconds\n",
      "\n",
      "================================\n",
      "Matrix multiplication for\n",
      "        Matrix A of size 16000 x 16000 -> 1024.0 MB;\n",
      "        Matrix B of size 16000 x 16000 -> 1024.0 MB;\n",
      "    took 1.6131680012 seconds\n",
      "\n",
      "================================\n",
      "Matrix multiplication for\n",
      "        Matrix A of size 18000 x 18000 -> 1296.0 MB;\n",
      "        Matrix B of size 18000 x 18000 -> 1296.0 MB;\n",
      "    took 2.8015990257 seconds\n",
      "\n",
      "================================\n",
      "Matrix multiplication for\n",
      "        Matrix A of size 20000 x 20000 -> 1600.0 MB;\n",
      "        Matrix B of size 20000 x 20000 -> 1600.0 MB;\n",
      "    took 10.6387887001 seconds\n"
     ]
    }
   ],
   "source": [
    "file_path_time_matmul_res_log = os.path.join(\"logs\",\"matmul\",backend,\"_results.csv\")\n",
    "os.makedirs(os.path.dirname(file_path_time_matmul_res_log), exist_ok=True)\n",
    "log_file_matmul_res = open(file_path_time_matmul_res_log, \"w\")\n",
    "\n",
    "log_file_matmul_res.write(\"size,time_s,size_MB\")\n",
    "\n",
    "for i in range(part_count):\n",
    "    N_prim = int(N / part_count * (i+1))\n",
    "    M_prim = int(M / part_count * (i+1))\n",
    "\n",
    "    # start memory usage logging\n",
    "    log_file_name = f\"ram_monitor_log_matmul_{N_prim}x{M_prim}.txt\" if backend==\"cpu\" else f\"nvidia_smi_log_matmul_{N_prim}x{M_prim}.txt\"\n",
    "    file_path_matmul = os.path.join(\"logs\", \"matmul\", backend, log_file_name)\n",
    "    os.makedirs(os.path.dirname(file_path_matmul), exist_ok=True)\n",
    "    log_file_matmul = open(file_path_matmul, \"w\")\n",
    "    if backend == \"cpu\":\n",
    "        process = subprocess.Popen(f\"python ram_monitor.py --interval {memory_log_interval_ms}\", cwd=r\"{}\".format(os.getcwd()), stdout=log_file_matmul)\n",
    "    else:\n",
    "        process = subprocess.Popen(f\"nvidia-smi --query-gpu memory.used,memory.total --format csv -lms {memory_log_interval_ms}\", cwd=r\"{}\".format(os.getcwd()), stdout=log_file_matmul)\n",
    "\n",
    "    # so memory usage before matrix init is logged\n",
    "    time.sleep(1)\n",
    "\n",
    "    A_matmul = af.randu(N_prim,M_prim)\n",
    "    B_matmul = af.randu(M_prim,N_prim)\n",
    "\n",
    "    af.sync()\n",
    "\n",
    "    def matmul_test():\n",
    "        return af.matmul(A_matmul, B_matmul)\n",
    "\n",
    "    res_matmul = af.timeit(matmul_test)\n",
    "\n",
    "    # Free GPU memory\n",
    "    A_matmul = None\n",
    "    B_matmul = None\n",
    "    del A_matmul\n",
    "    del B_matmul\n",
    "    # call garbage collector\n",
    "    af.device.device_gc()\n",
    "\n",
    "    af.sync()\n",
    "\n",
    "    # End memory logging\n",
    "    # so memory usage after matrix multiplication is logged\n",
    "    time.sleep(1)\n",
    "\n",
    "    os.kill(process.pid, signal.SIGINT)\n",
    "    log_file_matmul.close()\n",
    "\n",
    "    arr_size_MB = (N_prim*M_prim * 32) / (8*1e6)\n",
    "    print(\"\\n================================\")\n",
    "    print(f\"\"\"Matrix multiplication for\n",
    "        Matrix A of size {N_prim} x {M_prim} -> {arr_size_MB} MB;\n",
    "        Matrix B of size {M_prim} x {N_prim} -> {arr_size_MB} MB;\n",
    "    took {res_matmul:.10f} seconds\"\"\")\n",
    "    \n",
    "    log_file_matmul_res.write(f\"\\n{N_prim}x{M_prim},{res_matmul},{arr_size_MB}\")\n",
    "\n",
    "log_file_matmul_res.close()\n"
   ]
  },
  {
   "cell_type": "markdown",
   "metadata": {},
   "source": [
    "## Vector sorting"
   ]
  },
  {
   "cell_type": "markdown",
   "metadata": {},
   "source": [
    "### Check needed memory for data\n",
    "* 1 1D vector for sorting"
   ]
  },
  {
   "cell_type": "code",
   "execution_count": 5,
   "metadata": {},
   "outputs": [
    {
     "name": "stdout",
     "output_type": "stream",
     "text": [
      "\n",
      "Length of vector A: 250000000 -> 1000.0 MB\n",
      "    \n"
     ]
    }
   ],
   "source": [
    "# Set vector length\n",
    "L = 250000000\n",
    "\n",
    "needed_memory_vector =  (L * 32) / (8*1e6) \n",
    "\n",
    "print(\n",
    "    f\"\"\"\n",
    "Length of vector A: {L} -> {needed_memory_vector} MB\n",
    "    \"\"\"\n",
    ")"
   ]
  },
  {
   "cell_type": "markdown",
   "metadata": {},
   "source": [
    "### Perform vector sorting and log memory usage"
   ]
  },
  {
   "cell_type": "code",
   "execution_count": 6,
   "metadata": {},
   "outputs": [
    {
     "name": "stdout",
     "output_type": "stream",
     "text": [
      "\n",
      "================================\n",
      "Sorting\n",
      "        Vector with length 25000000 -> 100.0 MB\n",
      "    took 4.0411674976 seconds\n",
      "\n",
      "================================\n",
      "Sorting\n",
      "        Vector with length 50000000 -> 200.0 MB\n",
      "    took 8.2858226299 seconds\n",
      "\n",
      "================================\n",
      "Sorting\n",
      "        Vector with length 75000000 -> 300.0 MB\n",
      "    took 12.5783755779 seconds\n",
      "\n",
      "================================\n",
      "Sorting\n",
      "        Vector with length 100000000 -> 400.0 MB\n",
      "    took 16.8379557133 seconds\n",
      "\n",
      "================================\n",
      "Sorting\n",
      "        Vector with length 125000000 -> 500.0 MB\n",
      "    took 21.1275432110 seconds\n",
      "\n",
      "================================\n",
      "Sorting\n",
      "        Vector with length 150000000 -> 600.0 MB\n",
      "    took 25.2554528713 seconds\n",
      "\n",
      "================================\n",
      "Sorting\n",
      "        Vector with length 175000000 -> 700.0 MB\n",
      "    took 29.3585093021 seconds\n",
      "\n",
      "================================\n",
      "Sorting\n",
      "        Vector with length 200000000 -> 800.0 MB\n",
      "    took 33.5722186565 seconds\n",
      "\n",
      "================================\n",
      "Sorting\n",
      "        Vector with length 225000000 -> 900.0 MB\n",
      "    took 37.8209168911 seconds\n",
      "\n",
      "================================\n",
      "Sorting\n",
      "        Vector with length 250000000 -> 1000.0 MB\n",
      "    took 41.7929964066 seconds\n"
     ]
    }
   ],
   "source": [
    "file_path_time_vec_sort_res_log = os.path.join(\"logs\",\"vec_sort\",backend,\"_results.csv\")\n",
    "os.makedirs(os.path.dirname(file_path_time_vec_sort_res_log), exist_ok=True)\n",
    "log_file_vec_sort_res = open(file_path_time_vec_sort_res_log, \"w\")\n",
    "\n",
    "log_file_vec_sort_res.write(\"size,time_s,size_MB\")\n",
    "\n",
    "for i in range(part_count):\n",
    "    L_prim = int(L / part_count * (i+1))\n",
    "\n",
    "    # start memory usage logging\n",
    "    log_file_name = f\"ram_monitor_log_vector_sort_{L_prim}.txt\" if backend==\"cpu\" else f\"nvidia_smi_log_vector_sort_{L_prim}.txt\"\n",
    "    file_path_vector = os.path.join(\"logs\", \"vec_sort\", backend, log_file_name)\n",
    "    os.makedirs(os.path.dirname(file_path_vector), exist_ok=True)\n",
    "    log_file_vector = open(file_path_vector, \"w\")\n",
    "    if backend == \"cpu\":\n",
    "        process = subprocess.Popen(f\"python ram_monitor.py --interval {memory_log_interval_ms}\", cwd=r\"{}\".format(os.getcwd()), stdout=log_file_vector)\n",
    "    else:\n",
    "        process = subprocess.Popen(f\"nvidia-smi --query-gpu memory.used,memory.total --format csv -lms {memory_log_interval_ms}\", cwd=r\"{}\".format(os.getcwd()), stdout=log_file_vector)\n",
    "\n",
    "    # so memory usage before matrix init is logged\n",
    "    time.sleep(1)\n",
    "\n",
    "    A_vector = af.randu(L_prim)\n",
    "\n",
    "    af.sync()\n",
    "\n",
    "\n",
    "    def vector_sort_test():\n",
    "        return af.sort(A_vector)\n",
    "\n",
    "    res_vector = af.timeit(vector_sort_test)\n",
    "\n",
    "\n",
    "    # Free GPU memory\n",
    "    A_vector = None\n",
    "    del A_vector\n",
    "    # call garbage collector\n",
    "    af.device.device_gc()\n",
    "\n",
    "    af.sync()\n",
    "\n",
    "    # End memory logging\n",
    "    # so memory usage after matrix multiplication is logged\n",
    "    time.sleep(1)\n",
    "\n",
    "    os.kill(process.pid, signal.SIGINT)\n",
    "    log_file_vector.close()\n",
    "\n",
    "    vec_size_MB = (L_prim * 32) / (8*1e6)\n",
    "    print(\"\\n================================\")\n",
    "    print(f\"\"\"Sorting\n",
    "        Vector with length {L_prim} -> {vec_size_MB} MB\n",
    "    took {res_vector:.10f} seconds\"\"\")\n",
    "\n",
    "    log_file_vec_sort_res.write(f\"\\n{L_prim},{res_vector},{vec_size_MB}\")\n",
    "\n",
    "log_file_vec_sort_res.close()"
   ]
  },
  {
   "cell_type": "markdown",
   "metadata": {},
   "source": [
    "## Fast Fourier Transform"
   ]
  },
  {
   "cell_type": "markdown",
   "metadata": {},
   "source": [
    "### Load data\n",
    "* Audiobook - The Wonderful Wizard of Oz*\n",
    "\n",
    "*retrieved from https://librivox.org/the-wonderful-wizard-of-oz/"
   ]
  },
  {
   "cell_type": "code",
   "execution_count": 7,
   "metadata": {},
   "outputs": [],
   "source": [
    "audio_path = os.path.join(\"data\", \"Wizard_of_Oz_mp3\",\"wizardofoz_full.mp3\")\n",
    "# Load only 3000 seconds = 50 minutes because of VRAM\n",
    "audio_data, sample_rate = librosa.load(audio_path, sr=None, duration=3000)\n",
    "audio_data_length = len(audio_data)\n",
    "full_duration = librosa.get_duration(y=audio_data, sr=sample_rate)"
   ]
  },
  {
   "cell_type": "code",
   "execution_count": 8,
   "metadata": {},
   "outputs": [
    {
     "name": "stdout",
     "output_type": "stream",
     "text": [
      "\n",
      "================================\n",
      "FFT for\n",
      "        audio vector with length 6615000 -> 26.46 MB\n",
      "    took 0.1885008017 seconds\n",
      "\n",
      "================================\n",
      "FFT for\n",
      "        audio vector with length 13230000 -> 52.92 MB\n",
      "    took 0.3969383240 seconds\n",
      "\n",
      "================================\n",
      "FFT for\n",
      "        audio vector with length 19845000 -> 79.38 MB\n",
      "    took 0.6382944584 seconds\n",
      "\n",
      "================================\n",
      "FFT for\n",
      "        audio vector with length 26460000 -> 105.84 MB\n",
      "    took 0.8616967201 seconds\n",
      "\n",
      "================================\n",
      "FFT for\n",
      "        audio vector with length 33075000 -> 132.3 MB\n",
      "    took 1.1439409256 seconds\n",
      "\n",
      "================================\n",
      "FFT for\n",
      "        audio vector with length 39690000 -> 158.76 MB\n",
      "    took 0.7410175800 seconds\n",
      "\n",
      "================================\n",
      "FFT for\n",
      "        audio vector with length 46305000 -> 185.22 MB\n",
      "    took 0.8986248970 seconds\n",
      "\n",
      "================================\n",
      "FFT for\n",
      "        audio vector with length 52920000 -> 211.68 MB\n",
      "    took 0.9763882160 seconds\n",
      "\n",
      "================================\n",
      "FFT for\n",
      "        audio vector with length 59535000 -> 238.14 MB\n",
      "    took 1.1200046539 seconds\n",
      "\n",
      "================================\n",
      "FFT for\n",
      "        audio vector with length 66150000 -> 264.6 MB\n",
      "    took 1.2516534328 seconds\n"
     ]
    }
   ],
   "source": [
    "file_path_time_fft_res_log = os.path.join(\"logs\",\"fft\",backend,\"_results.csv\")\n",
    "os.makedirs(os.path.dirname(file_path_time_fft_res_log), exist_ok=True)\n",
    "log_file_fft_res = open(file_path_time_fft_res_log, \"w\")\n",
    "\n",
    "log_file_fft_res.write(\"size,dur_s,time_s,size_MB\")\n",
    "\n",
    "for i in range(part_count):\n",
    "    len_prim = int(audio_data_length / part_count * (i+1))\n",
    "\n",
    "    audio_data_prim = audio_data[:len_prim]\n",
    "\n",
    "    duration_prim = librosa.get_duration(y=audio_data_prim, sr=sample_rate)\n",
    "\n",
    "    # start memory usage logging\n",
    "    log_file_name = f\"ram_monitor_log_fft_{len_prim}.txt\" if backend==\"cpu\" else f\"nvidia_smi_log_fft_{len_prim}.txt\"\n",
    "    file_path_fft = os.path.join(\"logs\", \"fft\", backend, log_file_name)\n",
    "    os.makedirs(os.path.dirname(file_path_fft), exist_ok=True)\n",
    "    log_file_fft = open(file_path_fft, \"w\")\n",
    "    if backend == \"cpu\":\n",
    "        process = subprocess.Popen(f\"python ram_monitor.py --interval {memory_log_interval_ms}\", cwd=r\"{}\".format(os.getcwd()), stdout=log_file_fft)\n",
    "    else:\n",
    "        process = subprocess.Popen(f\"nvidia-smi --query-gpu memory.used,memory.total --format csv -lms {memory_log_interval_ms}\", cwd=r\"{}\".format(os.getcwd()), stdout=log_file_fft)\n",
    "\n",
    "    # so memory usage before matrix init is logged\n",
    "    time.sleep(1)\n",
    "\n",
    "    audio_vector = af.from_ndarray(audio_data_prim)\n",
    "\n",
    "    af.sync()\n",
    "    \n",
    "    def fft_test():\n",
    "        return af.fft(audio_vector)\n",
    "\n",
    "    res_fft_time = af.timeit(fft_test)\n",
    "    af.sync()\n",
    "\n",
    "    # Free GPU memory\n",
    "    audio_vector = None\n",
    "    del audio_vector\n",
    "    # call garbage collector\n",
    "    af.device.device_gc()\n",
    "    \n",
    "    # End memory logging\n",
    "    # so memory usage after matrix multiplication is logged\n",
    "    time.sleep(1)\n",
    "\n",
    "    os.kill(process.pid, signal.SIGINT)\n",
    "    log_file_fft.close()\n",
    "\n",
    "    audio_size_MB = (len_prim * 32) / (8*1e6)\n",
    "\n",
    "    \n",
    "    print(\"\\n================================\")\n",
    "    print(f\"\"\"FFT for\n",
    "        audio vector with length {len_prim} -> {audio_size_MB} MB\n",
    "    took {res_fft_time:.10f} seconds\"\"\")\n",
    "\n",
    "    log_file_fft_res.write(f\"\\n{len_prim},{duration_prim:.2f},{res_fft_time},{audio_size_MB}\")\n",
    "\n",
    "log_file_fft_res.close()"
   ]
  }
 ],
 "metadata": {
  "kernelspec": {
   "display_name": "Python 3",
   "language": "python",
   "name": "python3"
  },
  "language_info": {
   "codemirror_mode": {
    "name": "ipython",
    "version": 3
   },
   "file_extension": ".py",
   "mimetype": "text/x-python",
   "name": "python",
   "nbconvert_exporter": "python",
   "pygments_lexer": "ipython3",
   "version": "3.9.0"
  }
 },
 "nbformat": 4,
 "nbformat_minor": 2
}
